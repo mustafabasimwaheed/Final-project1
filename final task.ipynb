{
 "cells": [
  {
   "cell_type": "code",
   "execution_count": 1,
   "id": "3799d04b-c90d-4da8-bf68-33f841b2fe6c",
   "metadata": {},
   "outputs": [
    {
     "name": "stdout",
     "output_type": "stream",
     "text": [
      "1\n",
      "3\n",
      "5\n",
      "7\n",
      "9\n",
      "11\n",
      "13\n",
      "15\n",
      "17\n",
      "19\n"
     ]
    }
   ],
   "source": [
    "# Task 1: Print all odd numbers from 1 to 20 using a for loop\n",
    "for number in range(1, 21):\n",
    "    if number % 2 != 0:\n",
    "        print(number)\n"
   ]
  },
  {
   "cell_type": "code",
   "execution_count": 3,
   "id": "4315247c-2d82-42a6-a38d-19072c48bf03",
   "metadata": {},
   "outputs": [
    {
     "name": "stdin",
     "output_type": "stream",
     "text": [
      "Enter your age:  13\n"
     ]
    },
    {
     "name": "stdout",
     "output_type": "stream",
     "text": [
      "Teenager\n"
     ]
    }
   ],
   "source": [
    "#  Categorize age into \"Child,\" \"Teenager,\" or \"Adult\"\n",
    "age = int(input(\"Enter your age: \"))\n",
    "\n",
    "if age <= 12:\n",
    "    print(\"Child\")\n",
    "elif 13 <= age <= 19:\n",
    "    print(\"Teenager\")\n",
    "else:\n",
    "    print(\"Adult\")\n"
   ]
  },
  {
   "cell_type": "code",
   "execution_count": null,
   "id": "9b5bc702-42c2-42a0-935a-c7f686ba4372",
   "metadata": {},
   "outputs": [],
   "source": [
    "import matplotlib.pyplot as plt\n",
    "\n",
    "# Data from the graph\n",
    "x = [0, 1, 2, 3, 4, 5, 6, 7, 8]\n",
    "y = [10, 15, 40, 60, 55, 35, 30, 25, 45]\n",
    "\n",
    "# Plot the graph\n",
    "plt.plot(x, y, 'c--', marker='*', markerfacecolor='red', markersize=10)\n",
    "\n",
    "# Adding titles and labels\n",
    "plt.title('Graph Title')\n",
    "plt.xlabel('X axis')\n",
    "plt.ylabel('Y axis')\n",
    "\n",
    "# Display the graph\n",
    "plt.show()"
   ]
  },
  {
   "cell_type": "code",
   "execution_count": 4,
   "id": "2e65d549-859d-4a9b-a255-a56e074bbfb5",
   "metadata": {},
   "outputs": [],
   "source": [
    "import tkinter as tk\n",
    "from tkinter import messagebox\n",
    "\n",
    "def submit():\n",
    "    name = entry_name.get()\n",
    "    email = entry_email.get()\n",
    "    gender = gender_var.get()\n",
    "    country = country_var.get()\n",
    "    programming = []\n",
    "    if var_java.get():\n",
    "        programming.append(\"Java\")\n",
    "    if var_python.get():\n",
    "        programming.append(\"Python\")\n",
    "    \n",
    "    messagebox.showinfo(\"Registration Successful\", f\"Name: {name}\\nEmail: {email}\\nGender: {gender}\\nCountry: {country}\\nProgramming: {', '.join(programming)}\")\n",
    "\n",
    "# Create the main window\n",
    "root = tk.Tk()\n",
    "root.title(\"Registration Form\")\n",
    "\n",
    "# Create and place the form elements\n",
    "tk.Label(root, text=\"Full name\").grid(row=0, column=0)\n",
    "entry_name = tk.Entry(root)\n",
    "entry_name.grid(row=0, column=1)\n",
    "\n",
    "tk.Label(root, text=\"Email\").grid(row=1, column=0)\n",
    "entry_email = tk.Entry(root)\n",
    "entry_email.grid(row=1, column=1)\n",
    "\n",
    "tk.Label(root, text=\"Gender\").grid(row=2, column=0)\n",
    "gender_var = tk.StringVar(value=\"Male\")\n",
    "tk.Radiobutton(root, text=\"Male\", variable=gender_var, value=\"Male\").grid(row=2, column=1)\n",
    "tk.Radiobutton(root, text=\"Female\", variable=gender_var, value=\"Female\").grid(row=2, column=2)\n",
    "\n",
    "tk.Label(root, text=\"Country\").grid(row=3, column=0)\n",
    "country_var = tk.StringVar(value=\"Select your country\")\n",
    "tk.OptionMenu(root, country_var, \"USA\", \"Canada\", \"Pakistan\", \"Australia\").grid(row=3, column=1)\n",
    "\n",
    "tk.Label(root, text=\"Programming\").grid(row=4, column=0)\n",
    "var_java = tk.BooleanVar()\n",
    "var_python = tk.BooleanVar()\n",
    "tk.Checkbutton(root, text=\"Java\", variable=var_java).grid(row=4, column=1)\n",
    "tk.Checkbutton(root, text=\"Python\", variable=var_python).grid(row=4, column=2)\n",
    "\n",
    "tk.Button(root, text=\"Submit\", command=submit).grid(row=5, columnspan=3)\n",
    "\n",
    "# Run the main event loop\n",
    "root.mainloop()\n"
   ]
  },
  {
   "cell_type": "code",
   "execution_count": null,
   "id": "5dde360a-e01b-4d1a-94d5-e2c17c983b89",
   "metadata": {},
   "outputs": [],
   "source": []
  }
 ],
 "metadata": {
  "kernelspec": {
   "display_name": "Python 3 (ipykernel)",
   "language": "python",
   "name": "python3"
  },
  "language_info": {
   "codemirror_mode": {
    "name": "ipython",
    "version": 3
   },
   "file_extension": ".py",
   "mimetype": "text/x-python",
   "name": "python",
   "nbconvert_exporter": "python",
   "pygments_lexer": "ipython3",
   "version": "3.11.4"
  }
 },
 "nbformat": 4,
 "nbformat_minor": 5
}
